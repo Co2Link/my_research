{
 "cells": [
  {
   "cell_type": "code",
   "execution_count": 1,
   "metadata": {},
   "outputs": [],
   "source": [
    "%matplotlib inline\n",
    "from model_based_ import State_predictor\n",
    "import numpy as np\n",
    "import matplotlib.pyplot as plt\n",
    "memory_path = 'result/191119_214214/memories.pkl'"
   ]
  },
  {
   "cell_type": "code",
   "execution_count": 2,
   "metadata": {},
   "outputs": [
    {
     "name": "stderr",
     "output_type": "stream",
     "text": [
      "F:\\github\\my_research\\rl_networks.py:79: UserWarning: nn.init.xavier_uniform is now deprecated in favor of nn.init.xavier_uniform_.\n",
      "  nn.init.xavier_uniform(layer.weight.data)\n",
      "F:\\github\\my_research\\rl_networks.py:80: UserWarning: nn.init.constant is now deprecated in favor of nn.init.constant_.\n",
      "  nn.init.constant(layer.bias.data, 0)\n",
      "F:\\github\\my_research\\rl_networks.py:81: UserWarning: nn.init.uniform is now deprecated in favor of nn.init.uniform_.\n",
      "  nn.init.uniform(self.fc_encode.weight.data, -1, 1)\n",
      "F:\\github\\my_research\\rl_networks.py:82: UserWarning: nn.init.uniform is now deprecated in favor of nn.init.uniform_.\n",
      "  nn.init.uniform(self.fc_decode.weight.data, -1, 1)\n",
      "F:\\github\\my_research\\rl_networks.py:83: UserWarning: nn.init.uniform is now deprecated in favor of nn.init.uniform_.\n",
      "  nn.init.uniform(self.fc_action.weight.data, -0.1, 0.1)\n"
     ]
    },
    {
     "name": "stdout",
     "output_type": "stream",
     "text": [
      "*** traning size: 90000,testing size: 10000\n",
      "time cost for_restore_memories: 3.386\n",
      "*** device: cuda:0 ***\n",
      "*** model structure ***\n",
      "ACVP(\n",
      "  (conv1): Conv2d(4, 64, kernel_size=(6, 6), stride=(2, 2))\n",
      "  (conv2): Conv2d(64, 64, kernel_size=(6, 6), stride=(2, 2), padding=(2, 2))\n",
      "  (conv3): Conv2d(64, 64, kernel_size=(6, 6), stride=(2, 2), padding=(2, 2))\n",
      "  (fc4): Linear(in_features=6400, out_features=1024, bias=True)\n",
      "  (fc_encode): Linear(in_features=1024, out_features=2048, bias=True)\n",
      "  (fc_action): Linear(in_features=4, out_features=2048, bias=True)\n",
      "  (fc_decode): Linear(in_features=2048, out_features=1024, bias=True)\n",
      "  (fc5): Linear(in_features=1024, out_features=6400, bias=True)\n",
      "  (deconv6): ConvTranspose2d(64, 64, kernel_size=(6, 6), stride=(2, 2), padding=(2, 2))\n",
      "  (deconv7): ConvTranspose2d(64, 64, kernel_size=(6, 6), stride=(2, 2), padding=(2, 2))\n",
      "  (deconv8): ConvTranspose2d(64, 1, kernel_size=(6, 6), stride=(2, 2))\n",
      ")\n"
     ]
    }
   ],
   "source": [
    "sp = State_predictor(4,4,memory_path)"
   ]
  },
  {
   "cell_type": "code",
   "execution_count": 3,
   "metadata": {},
   "outputs": [
    {
     "name": "stdout",
     "output_type": "stream",
     "text": [
      "time cost for_sample_batch: 0.012\n",
      "(32, 84, 84, 4) (32, 4, 4) (32, 4, 84, 84)\n"
     ]
    }
   ],
   "source": [
    "states,actions,state_s = sp._sample_batch(32)\n",
    "print(states.shape,actions.shape,state_s.shape)\n",
    "\n",
    "\n",
    "\n"
   ]
  },
  {
   "cell_type": "code",
   "execution_count": 5,
   "metadata": {},
   "outputs": [
    {
     "data": {
      "image/png": "[encoded data removed]",
      "text/plain": [
       "<Figure size 432x288 with 5 Axes>"
      ]
     },
     "metadata": {
      "needs_background": "light"
     },
     "output_type": "display_data"
    }
   ],
   "source": [
    "fig,axes = plt.subplots(1,5)\n",
    "\n",
    "axes[0].imshow(states[0,:,:,-1],interpolation='nearest')\n",
    "axes[0].set_title('moto')\n",
    "for i in range(4):\n",
    "    axes[1+i].imshow(state_s[0,i,:,:],interpolation='nearest')\n",
    "    axes[i+1].set_title(str(i+1))\n",
    "plt.show()"
   ]
  },
  {
   "cell_type": "code",
   "execution_count": null,
   "metadata": {},
   "outputs": [],
   "source": []
  }
 ],
 "metadata": {
  "kernelspec": {
   "display_name": "Python 3",
   "language": "python",
   "name": "python3"
  },
  "language_info": {
   "codemirror_mode": {
    "name": "ipython",
    "version": 3
   },
   "file_extension": ".py",
   "mimetype": "text/x-python",
   "name": "python",
   "nbconvert_exporter": "python",
   "pygments_lexer": "ipython3",
   "version": "3.7.5"
  }
 },
 "nbformat": 4,
 "nbformat_minor": 2
}
